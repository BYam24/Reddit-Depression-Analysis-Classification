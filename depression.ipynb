{
 "cells": [
  {
   "cell_type": "markdown",
   "metadata": {},
   "source": [
    "Predicting Depression Levels Based on Reddit Content using NLP approach\n",
    "\n",
    "Problem Statement: Can we accurately predict the level or likelihood of depression in a user based on the content they post across different subreddits?\n",
    "\n",
    "Hypothesis: The language used by individuals in mental health-related subreddits (such as \"Depression\" and \"SuicideWatch\") contains specific linguistic markers that can be used to predict depressive symptoms.\n",
    "\n",
    "Experiment Design: Use natural language processing (NLP) techniques to extract features from the Reddit posts, such as sentiment, linguistic patterns, word frequency, and topic modeling. Train a machine learning model (e.g., logistic regression, random forest, or deep learning model) to predict whether a post is indicative of depression.\n",
    "\n",
    "Evaluation: Evaluate the model's accuracy using precision, recall, F1 score, and ROC-AUC metrics. Conduct a qualitative analysis of the most important features to understand which language patterns are most predictive."
   ]
  },
  {
   "cell_type": "markdown",
   "metadata": {},
   "source": [
    "Connections to the Humanities:\n",
    "Linguistic Analysis: In the humanities, studying language is a key focus. By analyzing the language used in Reddit posts, you can explore how cultural and social factors shape the ways people express mental health issues. For example, language patterns can reveal how different groups articulate their experiences of depression, the metaphors they use, or the influence of cultural stigma on discussing mental health.\n",
    "\n",
    "Cultural Studies: The expression of mental health issues online can be linked to cultural studies by examining how digital communities create shared meanings and norms around mental health. You could explore how different subreddits serve as cultural spaces where people come together to discuss their struggles, share advice, and form communities, thus producing and reproducing cultural attitudes toward mental health.\n",
    "\n",
    "Connections to Cultural Production:\n",
    "Digital Spaces as Sites of Cultural Production: Online forums like Reddit can be considered spaces where cultural production occurs. These spaces produce cultural narratives about mental health through shared stories, coping mechanisms, and expressions of emotional experiences. By predicting depression from posts, you are engaging with the content produced by users, which reflects broader cultural attitudes and discourses on mental health.\n",
    "\n",
    "Role of Media in Shaping Cultural Norms: You could frame the project as an exploration of how online platforms influence cultural understandings of depression and mental health. This involves analyzing how language and content around mental health are shaped by the digital medium and how these cultural products (posts, stories, discussions) impact individuals' perceptions of mental well-being.\n",
    "\n",
    "Potential Hypothesis with a Cultural Production Angle:\n",
    "Hypothesis: \"The language used in digital communities dedicated to mental health reflects broader cultural narratives about depression, and shifts in language patterns may indicate changes in cultural attitudes toward mental health over time.\""
   ]
  },
  {
   "cell_type": "markdown",
   "metadata": {},
   "source": [
    "Depression Definition:\n",
    "Depression is a mood disorder that causes a persistent feeling of sadness and loss of interest [1].\n",
    "\n",
    "In our Reddit Dataset from https://www.kaggle.com/datasets/rishabhkausish/reddit-depression-dataset/data, the reddit posts are classified as depression based solely on textual evidence and not clinical diagnosis. Identifying whethere the user is depressed based on their social media post is challenging because there is this question of \"Who are you to say that this person is depressed?\" Many people are skeptical of using AI to diagnose depression. I want to be clear that this project is not to be used for self-diagnosis, but rather to see the potential of NLP to classify depression with attention.\n"
   ]
  },
  {
   "cell_type": "markdown",
   "metadata": {},
   "source": [
    "How a humanist use text?\n",
    "\n",
    "- Identify similarity and differences between reddit posts \n",
    "- Track changes in content & style of posts over time\n",
    "- compare text from different subreddits\n",
    "- correlate posts with social events"
   ]
  },
  {
   "cell_type": "code",
   "execution_count": 1,
   "metadata": {},
   "outputs": [],
   "source": [
    "#Imported modules\n",
    "import pandas as pd\n",
    "import matplotlib.pyplot as plt"
   ]
  },
  {
   "cell_type": "markdown",
   "metadata": {},
   "source": []
  },
  {
   "cell_type": "code",
   "execution_count": 2,
   "metadata": {},
   "outputs": [
    {
     "name": "stderr",
     "output_type": "stream",
     "text": [
      "/var/folders/_3/gf9nw0513z1c15l4qf8wly_c0000gn/T/ipykernel_50082/2269813919.py:1: DtypeWarning: Columns (0) have mixed types. Specify dtype option on import or set low_memory=False.\n",
      "  df = pd.read_csv(\"reddit_depression_dataset.csv\")\n"
     ]
    },
    {
     "data": {
      "text/html": [
       "<div>\n",
       "<style scoped>\n",
       "    .dataframe tbody tr th:only-of-type {\n",
       "        vertical-align: middle;\n",
       "    }\n",
       "\n",
       "    .dataframe tbody tr th {\n",
       "        vertical-align: top;\n",
       "    }\n",
       "\n",
       "    .dataframe thead th {\n",
       "        text-align: right;\n",
       "    }\n",
       "</style>\n",
       "<table border=\"1\" class=\"dataframe\">\n",
       "  <thead>\n",
       "    <tr style=\"text-align: right;\">\n",
       "      <th></th>\n",
       "      <th>Unnamed: 0</th>\n",
       "      <th>subreddit</th>\n",
       "      <th>title</th>\n",
       "      <th>body</th>\n",
       "      <th>upvotes</th>\n",
       "      <th>created_utc</th>\n",
       "      <th>num_comments</th>\n",
       "      <th>label</th>\n",
       "    </tr>\n",
       "  </thead>\n",
       "  <tbody>\n",
       "    <tr>\n",
       "      <th>1915801</th>\n",
       "      <td>7668036</td>\n",
       "      <td>teenagers</td>\n",
       "      <td>Teens assemble</td>\n",
       "      <td>Doesn’t matter if you love him or you hate him...</td>\n",
       "      <td>6.0</td>\n",
       "      <td>1.656651e+09</td>\n",
       "      <td>24.0</td>\n",
       "      <td>0.0</td>\n",
       "    </tr>\n",
       "    <tr>\n",
       "      <th>1217811</th>\n",
       "      <td>4470104</td>\n",
       "      <td>teenagers</td>\n",
       "      <td>Some assholes in my neighborhood are still sho...</td>\n",
       "      <td>1. It’s almost mid night \\n\\n2. People have do...</td>\n",
       "      <td>6.0</td>\n",
       "      <td>1.593838e+09</td>\n",
       "      <td>6.0</td>\n",
       "      <td>0.0</td>\n",
       "    </tr>\n",
       "    <tr>\n",
       "      <th>1205875</th>\n",
       "      <td>4418920</td>\n",
       "      <td>teenagers</td>\n",
       "      <td>For anyone interested in the Hunger Games, you...</td>\n",
       "      <td>It's set up like a text-based RPG where you c...</td>\n",
       "      <td>4.0</td>\n",
       "      <td>1.593097e+09</td>\n",
       "      <td>6.0</td>\n",
       "      <td>0.0</td>\n",
       "    </tr>\n",
       "    <tr>\n",
       "      <th>209541</th>\n",
       "      <td>1149828</td>\n",
       "      <td>teenagers</td>\n",
       "      <td>I talked to my crush so much at lunch that was...</td>\n",
       "      <td>Nobody cares I just wanted to tell y'all</td>\n",
       "      <td>5.0</td>\n",
       "      <td>1.516645e+09</td>\n",
       "      <td>9.0</td>\n",
       "      <td>0.0</td>\n",
       "    </tr>\n",
       "    <tr>\n",
       "      <th>792183</th>\n",
       "      <td>3023067</td>\n",
       "      <td>teenagers</td>\n",
       "      <td>I've just realized something.</td>\n",
       "      <td>The largest land animal is a beached whale.</td>\n",
       "      <td>7.0</td>\n",
       "      <td>1.572032e+09</td>\n",
       "      <td>3.0</td>\n",
       "      <td>0.0</td>\n",
       "    </tr>\n",
       "  </tbody>\n",
       "</table>\n",
       "</div>"
      ],
      "text/plain": [
       "        Unnamed: 0  subreddit  \\\n",
       "1915801    7668036  teenagers   \n",
       "1217811    4470104  teenagers   \n",
       "1205875    4418920  teenagers   \n",
       "209541     1149828  teenagers   \n",
       "792183     3023067  teenagers   \n",
       "\n",
       "                                                     title  \\\n",
       "1915801                                     Teens assemble   \n",
       "1217811  Some assholes in my neighborhood are still sho...   \n",
       "1205875  For anyone interested in the Hunger Games, you...   \n",
       "209541   I talked to my crush so much at lunch that was...   \n",
       "792183                       I've just realized something.   \n",
       "\n",
       "                                                      body  upvotes  \\\n",
       "1915801  Doesn’t matter if you love him or you hate him...      6.0   \n",
       "1217811  1. It’s almost mid night \\n\\n2. People have do...      6.0   \n",
       "1205875   It's set up like a text-based RPG where you c...      4.0   \n",
       "209541            Nobody cares I just wanted to tell y'all      5.0   \n",
       "792183         The largest land animal is a beached whale.      7.0   \n",
       "\n",
       "          created_utc  num_comments  label  \n",
       "1915801  1.656651e+09          24.0    0.0  \n",
       "1217811  1.593838e+09           6.0    0.0  \n",
       "1205875  1.593097e+09           6.0    0.0  \n",
       "209541   1.516645e+09           9.0    0.0  \n",
       "792183   1.572032e+09           3.0    0.0  "
      ]
     },
     "execution_count": 2,
     "metadata": {},
     "output_type": "execute_result"
    }
   ],
   "source": [
    "df = pd.read_csv(\"reddit_depression_dataset.csv\")\n",
    "\n",
    "df.sample(5)"
   ]
  },
  {
   "cell_type": "markdown",
   "metadata": {},
   "source": [
    "Data Card:\n",
    "\n",
    "Subreddit: The subreddit where the post was shared\n",
    "\n",
    "Title: The title provided by the user for the post\n",
    "\n",
    "Body: The content of the post written by the user\n",
    "\n",
    "Upvotes: The number of upvotes the post received\n",
    "\n",
    "Created UTC : The time the post was created, given in UTC epoch time\n",
    "\n",
    "Number of Comments: The total count of comments on the post\n",
    "\n",
    "Label: The category assigned to the post, where 0 indicates normal and 1 indicates depressed (Target)"
   ]
  },
  {
   "cell_type": "code",
   "execution_count": 3,
   "metadata": {},
   "outputs": [
    {
     "data": {
      "text/plain": [
       "Index(['subreddit', 'title', 'content', 'upvotes', 'created_utc',\n",
       "       'num_comments', 'label'],\n",
       "      dtype='object')"
      ]
     },
     "execution_count": 3,
     "metadata": {},
     "output_type": "execute_result"
    }
   ],
   "source": [
    "df = df.rename(columns={\"body\": \"content\"}).drop(\"Unnamed: 0\", axis = 1)\n",
    "#axis = 1 is column\n",
    "df.columns\n"
   ]
  },
  {
   "cell_type": "code",
   "execution_count": 4,
   "metadata": {},
   "outputs": [
    {
     "data": {
      "text/plain": [
       "array(['DeepThoughts', 'teenagers', '15', '6', '30', '5', '12', '16', nan,\n",
       "       '7', '4', '61', '10', '9', '8', '107', '11', 'happy',\n",
       "       'SuicideWatch', '1402326041', 'depression', '31', '101', '27',\n",
       "       '47'], dtype=object)"
      ]
     },
     "execution_count": 4,
     "metadata": {},
     "output_type": "execute_result"
    }
   ],
   "source": [
    "df['subreddit'].unique()"
   ]
  },
  {
   "cell_type": "code",
   "execution_count": 5,
   "metadata": {},
   "outputs": [
    {
     "data": {
      "image/png": "[encoded data removed]",
      "text/plain": [
       "<Figure size 1400x600 with 1 Axes>"
      ]
     },
     "metadata": {},
     "output_type": "display_data"
    }
   ],
   "source": [
    "# Count the occurrences of each unique value\n",
    "subreddit_counts = df['subreddit'].value_counts(dropna=False)\n",
    "\n",
    "# Plot the distribution\n",
    "plt.figure(figsize=(14, 6))\n",
    "subreddit_counts.plot(kind='bar')\n",
    "plt.title('Distribution of Subreddit Values')\n",
    "plt.xlabel('Subreddit')\n",
    "plt.ylabel('Frequency')\n",
    "plt.xticks(rotation=60) \n",
    "plt.show()"
   ]
  },
  {
   "cell_type": "markdown",
   "metadata": {},
   "source": [
    "Observe that the dataset contains Reddit posts from 5 subreddits: DeepThoughts, teenagers, SuicideWatch, depression, and happy.\n",
    "\n",
    "My prior is that we will most likely find more depression posts in SuicideWatch and depression. Happy will contain less language that relates to depression. I think posts from DeepThoughts and teenagers can expose languages that can be found in depressed posts."
   ]
  },
  {
   "cell_type": "code",
   "execution_count": 6,
   "metadata": {},
   "outputs": [],
   "source": [
    "# subreddits to keep\n",
    "subreddits_to_keep = ['DeepThoughts', 'teenagers', 'SuicideWatch', 'depression', 'happy']\n",
    "\n",
    "# Filter the DataFrame\n",
    "filtered_df = df[df['subreddit'].isin(subreddits_to_keep) ]\n",
    "\n",
    "# Reset index (optional)\n",
    "filtered_df.reset_index(drop=True, inplace=True)"
   ]
  },
  {
   "cell_type": "code",
   "execution_count": 7,
   "metadata": {},
   "outputs": [
    {
     "name": "stdout",
     "output_type": "stream",
     "text": [
      "Number of entries in the dataset: 2470715\n",
      "Number of entries in each columns: \n",
      "subreddit       2470715\n",
      "title           2470712\n",
      "content         2009685\n",
      "upvotes         2470672\n",
      "created_utc     2470672\n",
      "num_comments    2356801\n",
      "label           2470672\n",
      "dtype: int64\n"
     ]
    }
   ],
   "source": [
    "print(f'Number of entries in the dataset: {len(filtered_df)}')\n",
    "print(f'Number of entries in each columns: \\n{filtered_df.count()}')\n"
   ]
  },
  {
   "cell_type": "markdown",
   "metadata": {},
   "source": [
    "Some content are none. Instead of filtering data entries with \"no content\" we want to replace the data with a dummy content value like \"no content\" because many Reddit users expresses ideas in their post through the title with no content body."
   ]
  },
  {
   "cell_type": "code",
   "execution_count": 27,
   "metadata": {},
   "outputs": [
    {
     "name": "stdout",
     "output_type": "stream",
     "text": [
      "I keep looking at these pills, the lack of family or friends. Hell no one would even know til after the holidays? I know what they'll all say : he was a coward, he couldn't cut it ... Well, I couldn't. The PTSD, the divorce, the separation from my kids, the wife who found a new love, none of it. All of it is B.S., no one gives a **** unless it's making them feel better or they figure they'll buy there way into heaven. I'm so low I don't even try to reach out anymore, and no one cares too. I'm eating my favorite dishes and my favorite movie as I go to sleep.\n",
      "\n"
     ]
    }
   ],
   "source": [
    "# Filter rows where 'label' is 1\n",
    "label_1_df = filtered_df[filtered_df['label'] == 1]\n",
    "\n",
    "# Sample 10 rows from the filtered DataFrame\n",
    "label_1_sample = label_1_df.sample(10)\n",
    "\n",
    "# Get the 'content' column from the sampled rows\n",
    "sampled_content = label_1_sample['content']\n",
    "\n",
    "# Display one of the content values (for example, the first one)\n",
    "print(sampled_content.iloc[3])\n",
    "\n"
   ]
  },
  {
   "cell_type": "code",
   "execution_count": null,
   "metadata": {},
   "outputs": [],
   "source": []
  },
  {
   "cell_type": "markdown",
   "metadata": {},
   "source": [
    "References\n",
    "\n",
    "1. Salik I, Marwaha R. StatPearls [Internet]. StatPearls Publishing; Treasure Island (FL): Sep 19, 2022. Electroconvulsive Therapy."
   ]
  },
  {
   "cell_type": "markdown",
   "metadata": {},
   "source": []
  }
 ],
 "metadata": {
  "kernelspec": {
   "display_name": "3350.3.10",
   "language": "python",
   "name": "python3"
  },
  "language_info": {
   "codemirror_mode": {
    "name": "ipython",
    "version": 3
   },
   "file_extension": ".py",
   "mimetype": "text/x-python",
   "name": "python",
   "nbconvert_exporter": "python",
   "pygments_lexer": "ipython3",
   "version": "3.10.15"
  }
 },
 "nbformat": 4,
 "nbformat_minor": 2
}
